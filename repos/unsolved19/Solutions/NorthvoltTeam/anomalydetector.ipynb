{
 "cells": [
  {
   "cell_type": "code",
   "execution_count": 1,
   "metadata": {},
   "outputs": [
    {
     "name": "stdout",
     "output_type": "stream",
     "text": [
      "\u001b[33mWARNING: You are using pip version 19.2.1, however version 19.2.3 is available.\r\n",
      "You should consider upgrading via the 'pip install --upgrade pip' command.\u001b[0m\r\n"
     ]
    },
    {
     "name": "stderr",
     "output_type": "stream",
     "text": [
      "/Users/martinhwasser/venv/lib/python3.7/site-packages/tensorflow/python/framework/dtypes.py:516: FutureWarning: Passing (type, 1) or '1type' as a synonym of type is deprecated; in a future version of numpy, it will be understood as (type, (1,)) / '(1,)type'.\n",
      "  _np_qint8 = np.dtype([(\"qint8\", np.int8, 1)])\n",
      "/Users/martinhwasser/venv/lib/python3.7/site-packages/tensorflow/python/framework/dtypes.py:517: FutureWarning: Passing (type, 1) or '1type' as a synonym of type is deprecated; in a future version of numpy, it will be understood as (type, (1,)) / '(1,)type'.\n",
      "  _np_quint8 = np.dtype([(\"quint8\", np.uint8, 1)])\n",
      "/Users/martinhwasser/venv/lib/python3.7/site-packages/tensorflow/python/framework/dtypes.py:518: FutureWarning: Passing (type, 1) or '1type' as a synonym of type is deprecated; in a future version of numpy, it will be understood as (type, (1,)) / '(1,)type'.\n",
      "  _np_qint16 = np.dtype([(\"qint16\", np.int16, 1)])\n",
      "/Users/martinhwasser/venv/lib/python3.7/site-packages/tensorflow/python/framework/dtypes.py:519: FutureWarning: Passing (type, 1) or '1type' as a synonym of type is deprecated; in a future version of numpy, it will be understood as (type, (1,)) / '(1,)type'.\n",
      "  _np_quint16 = np.dtype([(\"quint16\", np.uint16, 1)])\n",
      "/Users/martinhwasser/venv/lib/python3.7/site-packages/tensorflow/python/framework/dtypes.py:520: FutureWarning: Passing (type, 1) or '1type' as a synonym of type is deprecated; in a future version of numpy, it will be understood as (type, (1,)) / '(1,)type'.\n",
      "  _np_qint32 = np.dtype([(\"qint32\", np.int32, 1)])\n",
      "/Users/martinhwasser/venv/lib/python3.7/site-packages/tensorflow/python/framework/dtypes.py:525: FutureWarning: Passing (type, 1) or '1type' as a synonym of type is deprecated; in a future version of numpy, it will be understood as (type, (1,)) / '(1,)type'.\n",
      "  np_resource = np.dtype([(\"resource\", np.ubyte, 1)])\n",
      "/Users/martinhwasser/venv/lib/python3.7/site-packages/tensorboard/compat/tensorflow_stub/dtypes.py:541: FutureWarning: Passing (type, 1) or '1type' as a synonym of type is deprecated; in a future version of numpy, it will be understood as (type, (1,)) / '(1,)type'.\n",
      "  _np_qint8 = np.dtype([(\"qint8\", np.int8, 1)])\n",
      "/Users/martinhwasser/venv/lib/python3.7/site-packages/tensorboard/compat/tensorflow_stub/dtypes.py:542: FutureWarning: Passing (type, 1) or '1type' as a synonym of type is deprecated; in a future version of numpy, it will be understood as (type, (1,)) / '(1,)type'.\n",
      "  _np_quint8 = np.dtype([(\"quint8\", np.uint8, 1)])\n",
      "/Users/martinhwasser/venv/lib/python3.7/site-packages/tensorboard/compat/tensorflow_stub/dtypes.py:543: FutureWarning: Passing (type, 1) or '1type' as a synonym of type is deprecated; in a future version of numpy, it will be understood as (type, (1,)) / '(1,)type'.\n",
      "  _np_qint16 = np.dtype([(\"qint16\", np.int16, 1)])\n",
      "/Users/martinhwasser/venv/lib/python3.7/site-packages/tensorboard/compat/tensorflow_stub/dtypes.py:544: FutureWarning: Passing (type, 1) or '1type' as a synonym of type is deprecated; in a future version of numpy, it will be understood as (type, (1,)) / '(1,)type'.\n",
      "  _np_quint16 = np.dtype([(\"quint16\", np.uint16, 1)])\n",
      "/Users/martinhwasser/venv/lib/python3.7/site-packages/tensorboard/compat/tensorflow_stub/dtypes.py:545: FutureWarning: Passing (type, 1) or '1type' as a synonym of type is deprecated; in a future version of numpy, it will be understood as (type, (1,)) / '(1,)type'.\n",
      "  _np_qint32 = np.dtype([(\"qint32\", np.int32, 1)])\n",
      "/Users/martinhwasser/venv/lib/python3.7/site-packages/tensorboard/compat/tensorflow_stub/dtypes.py:550: FutureWarning: Passing (type, 1) or '1type' as a synonym of type is deprecated; in a future version of numpy, it will be understood as (type, (1,)) / '(1,)type'.\n",
      "  np_resource = np.dtype([(\"resource\", np.ubyte, 1)])\n"
     ]
    },
    {
     "data": {
      "text/plain": [
       "'2.0.0-beta0'"
      ]
     },
     "execution_count": 1,
     "metadata": {},
     "output_type": "execute_result"
    }
   ],
   "source": [
    "!pip install -q matplotlib seaborn numpy tensorflow==2.0.0b tqdm sklearn\n",
    "import matplotlib as mpl\n",
    "import matplotlib.pyplot as plt\n",
    "from matplotlib.colors import ListedColormap\n",
    "import seaborn as sns\n",
    "import numpy as np\n",
    "import pandas as pd\n",
    "import tqdm\n",
    "\n",
    "from sklearn.preprocessing import StandardScaler, MinMaxScaler\n",
    "from sklearn.metrics import mean_squared_log_error, mean_squared_error\n",
    "\n",
    "import tensorflow as tf\n",
    "\n",
    "from tensorflow.keras.models import *\n",
    "from tensorflow.keras.layers import *\n",
    "\n",
    "tf.__version__"
   ]
  },
  {
   "cell_type": "code",
   "execution_count": 2,
   "metadata": {},
   "outputs": [],
   "source": [
    "%matplotlib inline\n",
    "%config InlineBackend.figure_format='retina'\n",
    "\n",
    "CMAP = ListedColormap(sns.color_palette('RdBu_r', 16))\n",
    "pd.set_option('display.max_columns', None)\n",
    "\n",
    "# ==================================\n",
    "\n",
    "## Cell 2\n",
    "plt.style.use('fivethirtyeight')\n",
    "sns.set_style('white', {'axes.grid': True})\n",
    "mpl.rcParams['figure.figsize'] = (10, 6)\n",
    "mpl.rcParams['image.cmap'] = 'coolwarm'\n",
    "mpl.rcParams['font.family'] = 'serif'\n",
    "mpl.rcParams['text.usetex'] = False\n",
    "mpl.rcParams['savefig.dpi'] = 240\n",
    "mpl.rcParams['savefig.facecolor'] = 'white'"
   ]
  },
  {
   "cell_type": "markdown",
   "metadata": {},
   "source": [
    "# Get data"
   ]
  },
  {
   "cell_type": "code",
   "execution_count": 3,
   "metadata": {},
   "outputs": [
    {
     "data": {
      "text/html": [
       "<div>\n",
       "<style scoped>\n",
       "    .dataframe tbody tr th:only-of-type {\n",
       "        vertical-align: middle;\n",
       "    }\n",
       "\n",
       "    .dataframe tbody tr th {\n",
       "        vertical-align: top;\n",
       "    }\n",
       "\n",
       "    .dataframe thead th {\n",
       "        text-align: right;\n",
       "    }\n",
       "</style>\n",
       "<table border=\"1\" class=\"dataframe\">\n",
       "  <thead>\n",
       "    <tr style=\"text-align: right;\">\n",
       "      <th></th>\n",
       "      <th>arrival</th>\n",
       "      <th>carrier</th>\n",
       "      <th>co2</th>\n",
       "      <th>departure</th>\n",
       "      <th>distance</th>\n",
       "      <th>dwell</th>\n",
       "      <th>from_lat</th>\n",
       "      <th>from_lon</th>\n",
       "      <th>from_name</th>\n",
       "      <th>mode</th>\n",
       "      <th>shipment</th>\n",
       "      <th>step</th>\n",
       "      <th>time</th>\n",
       "      <th>to_lat</th>\n",
       "      <th>to_lon</th>\n",
       "      <th>to_name</th>\n",
       "    </tr>\n",
       "  </thead>\n",
       "  <tbody>\n",
       "    <tr>\n",
       "      <th>0</th>\n",
       "      <td>2018-01-23 06:51:51.757542</td>\n",
       "      <td>3</td>\n",
       "      <td>5456.697873</td>\n",
       "      <td>2018-01-22 22:28:00.000000</td>\n",
       "      <td>6718.168343</td>\n",
       "      <td>2018-01-22 22:28:00.000000</td>\n",
       "      <td>-11.05248</td>\n",
       "      <td>26.54665</td>\n",
       "      <td>9</td>\n",
       "      <td>plane</td>\n",
       "      <td>ship00000</td>\n",
       "      <td>0</td>\n",
       "      <td>8.397710</td>\n",
       "      <td>43.26271</td>\n",
       "      <td>-2.92528</td>\n",
       "      <td>1</td>\n",
       "    </tr>\n",
       "    <tr>\n",
       "      <th>1</th>\n",
       "      <td>2018-01-23 21:17:40.041767</td>\n",
       "      <td>0</td>\n",
       "      <td>1579.026421</td>\n",
       "      <td>2018-01-23 18:51:51.757542</td>\n",
       "      <td>1944.063161</td>\n",
       "      <td>2018-01-23 06:51:51.757542</td>\n",
       "      <td>43.26271</td>\n",
       "      <td>-2.92528</td>\n",
       "      <td>1</td>\n",
       "      <td>plane</td>\n",
       "      <td>ship00000</td>\n",
       "      <td>1</td>\n",
       "      <td>2.430079</td>\n",
       "      <td>58.27429</td>\n",
       "      <td>11.43576</td>\n",
       "      <td>10</td>\n",
       "    </tr>\n",
       "    <tr>\n",
       "      <th>2</th>\n",
       "      <td>2018-01-24 00:23:07.625214</td>\n",
       "      <td>3</td>\n",
       "      <td>708.911356</td>\n",
       "      <td>2018-01-23 23:17:40.041767</td>\n",
       "      <td>872.796321</td>\n",
       "      <td>2018-01-23 21:17:40.041767</td>\n",
       "      <td>58.27429</td>\n",
       "      <td>11.43576</td>\n",
       "      <td>10</td>\n",
       "      <td>plane</td>\n",
       "      <td>ship00000</td>\n",
       "      <td>2</td>\n",
       "      <td>1.090995</td>\n",
       "      <td>64.62477</td>\n",
       "      <td>21.07689</td>\n",
       "      <td>7</td>\n",
       "    </tr>\n",
       "    <tr>\n",
       "      <th>3</th>\n",
       "      <td>2017-10-31 08:06:48.120671</td>\n",
       "      <td>2</td>\n",
       "      <td>882.364230</td>\n",
       "      <td>2017-10-25 17:45:00.000000</td>\n",
       "      <td>6718.168343</td>\n",
       "      <td>2017-10-25 17:45:00.000000</td>\n",
       "      <td>-11.05248</td>\n",
       "      <td>26.54665</td>\n",
       "      <td>9</td>\n",
       "      <td>truck</td>\n",
       "      <td>ship00001</td>\n",
       "      <td>0</td>\n",
       "      <td>134.363367</td>\n",
       "      <td>43.26271</td>\n",
       "      <td>-2.92528</td>\n",
       "      <td>1</td>\n",
       "    </tr>\n",
       "    <tr>\n",
       "      <th>4</th>\n",
       "      <td>2017-11-02 13:54:06.130720</td>\n",
       "      <td>3</td>\n",
       "      <td>195.620003</td>\n",
       "      <td>2017-11-01 08:06:48.120671</td>\n",
       "      <td>1489.416806</td>\n",
       "      <td>2017-10-31 08:06:48.120671</td>\n",
       "      <td>43.26271</td>\n",
       "      <td>-2.92528</td>\n",
       "      <td>1</td>\n",
       "      <td>truck</td>\n",
       "      <td>ship00001</td>\n",
       "      <td>1</td>\n",
       "      <td>29.788336</td>\n",
       "      <td>53.57532</td>\n",
       "      <td>10.01534</td>\n",
       "      <td>2</td>\n",
       "    </tr>\n",
       "  </tbody>\n",
       "</table>\n",
       "</div>"
      ],
      "text/plain": [
       "                      arrival  carrier          co2  \\\n",
       "0  2018-01-23 06:51:51.757542        3  5456.697873   \n",
       "1  2018-01-23 21:17:40.041767        0  1579.026421   \n",
       "2  2018-01-24 00:23:07.625214        3   708.911356   \n",
       "3  2017-10-31 08:06:48.120671        2   882.364230   \n",
       "4  2017-11-02 13:54:06.130720        3   195.620003   \n",
       "\n",
       "                    departure     distance                       dwell  \\\n",
       "0  2018-01-22 22:28:00.000000  6718.168343  2018-01-22 22:28:00.000000   \n",
       "1  2018-01-23 18:51:51.757542  1944.063161  2018-01-23 06:51:51.757542   \n",
       "2  2018-01-23 23:17:40.041767   872.796321  2018-01-23 21:17:40.041767   \n",
       "3  2017-10-25 17:45:00.000000  6718.168343  2017-10-25 17:45:00.000000   \n",
       "4  2017-11-01 08:06:48.120671  1489.416806  2017-10-31 08:06:48.120671   \n",
       "\n",
       "   from_lat  from_lon  from_name   mode   shipment  step        time  \\\n",
       "0 -11.05248  26.54665          9  plane  ship00000     0    8.397710   \n",
       "1  43.26271  -2.92528          1  plane  ship00000     1    2.430079   \n",
       "2  58.27429  11.43576         10  plane  ship00000     2    1.090995   \n",
       "3 -11.05248  26.54665          9  truck  ship00001     0  134.363367   \n",
       "4  43.26271  -2.92528          1  truck  ship00001     1   29.788336   \n",
       "\n",
       "     to_lat    to_lon  to_name  \n",
       "0  43.26271  -2.92528        1  \n",
       "1  58.27429  11.43576       10  \n",
       "2  64.62477  21.07689        7  \n",
       "3  43.26271  -2.92528        1  \n",
       "4  53.57532  10.01534        2  "
      ]
     },
     "execution_count": 3,
     "metadata": {},
     "output_type": "execute_result"
    }
   ],
   "source": [
    "df = pd.read_csv('data/transactions_id.csv')\n",
    "df_bad = pd.read_csv('data/transactions_bad.csv')\n",
    "df.head()"
   ]
  },
  {
   "cell_type": "code",
   "execution_count": 4,
   "metadata": {},
   "outputs": [],
   "source": [
    "def get_data(df):\n",
    "    max_idx = int(max(df['from_name']))\n",
    "\n",
    "    oh_size = max_idx + 1\n",
    "    df = df[['from_name', 'to_name', 'time']]\n",
    "\n",
    "    frm, to, times = [], [], []\n",
    "    for x in df.values:\n",
    "        frm.append(np.eye(oh_size)[int(x[0])])\n",
    "        to.append(np.eye(oh_size)[int(x[1])])\n",
    "        times.append([x[2]])\n",
    "    return frm, to, times, oh_size"
   ]
  },
  {
   "cell_type": "code",
   "execution_count": 5,
   "metadata": {},
   "outputs": [],
   "source": [
    "def split_train_test(frm, to, times):\n",
    "    size = len(frm)\n",
    "\n",
    "    frm_train = frm[:int(size*0.8)]\n",
    "    to_train = to[:int(size*0.8)]\n",
    "    times_train = times[:int(size*0.8)]\n",
    "    X_train = [frm_train, to_train, times_train]\n",
    "\n",
    "    frm_test = frm[int(size*0.8):]\n",
    "    to_test = to[int(size*0.8):]\n",
    "    times_test = times[int(size*0.8):]\n",
    "    X_test = [frm_test, to_test, times_test]\n",
    "    \n",
    "    return X_train, X_test"
   ]
  },
  {
   "cell_type": "code",
   "execution_count": 6,
   "metadata": {},
   "outputs": [],
   "source": [
    "frm, to, times, oh_size = get_data(df)\n",
    "scaler = StandardScaler()\n",
    "times = scaler.fit_transform(times)\n",
    "\n",
    "with open('scaler.pkl', 'wb') as f:\n",
    "    import pickle\n",
    "    pickle.dump(scaler, f)\n",
    "X_train, X_test = split_train_test(frm, to, times)"
   ]
  },
  {
   "cell_type": "markdown",
   "metadata": {},
   "source": [
    "# Define Autoencoder model"
   ]
  },
  {
   "cell_type": "code",
   "execution_count": 7,
   "metadata": {},
   "outputs": [],
   "source": [
    "from_input = Input(shape=(oh_size,))\n",
    "to_input = Input(shape=(oh_size,))\n",
    "time_input = Input(shape=(1,))\n",
    "\n",
    "x = Dense(32, activation='relu')(from_input)\n",
    "x = Dense(32, activation='relu')(x)\n",
    "encoded0 = Dense(2, activation='relu')(x)\n",
    "\n",
    "x = Dense(32, activation='relu')(to_input)\n",
    "x = Dense(32, activation='relu')(x)\n",
    "encoded1 = Dense(2, activation='relu')(x)\n",
    "\n",
    "x = Dense(32, activation='relu')(time_input)\n",
    "x = Dense(32, activation='relu')(x)\n",
    "encoded2 = Dense(2, activation='relu')(x)\n",
    "\n",
    "encoded = tf.keras.layers.concatenate([encoded0, encoded1, encoded2])\n",
    "\n",
    "x = Dense(32, activation='relu')(encoded)\n",
    "x = Dense(32, activation='relu')(encoded)\n",
    "\n",
    "from_out = Dense(oh_size, activation='softmax')(x)\n",
    "to_out = Dense(oh_size, activation='softmax')(x)\n",
    "time_out = Dense(1)(x)\n",
    "\n",
    "autoencoder = Model([from_input, to_input, time_input], [from_out, to_out, time_out])\n",
    "autoencoder.compile(optimizer='adam', loss=['categorical_crossentropy', 'categorical_crossentropy', 'mse'], loss_weights=[1., 1., 1.])"
   ]
  },
  {
   "cell_type": "code",
   "execution_count": 8,
   "metadata": {},
   "outputs": [
    {
     "name": "stdout",
     "output_type": "stream",
     "text": [
      "WARNING:tensorflow:From /Users/martinhwasser/venv/lib/python3.7/site-packages/tensorflow/python/ops/math_grad.py:1250: add_dispatch_support.<locals>.wrapper (from tensorflow.python.ops.array_ops) is deprecated and will be removed in a future version.\n",
      "Instructions for updating:\n",
      "Use tf.where in 2.0, which has the same broadcast rule as np.where\n"
     ]
    }
   ],
   "source": [
    "history = autoencoder.fit(X_train, X_train, epochs=300, verbose=0)"
   ]
  },
  {
   "cell_type": "code",
   "execution_count": 9,
   "metadata": {},
   "outputs": [
    {
     "data": {
      "text/plain": [
       "[<matplotlib.lines.Line2D at 0x143187f10>]"
      ]
     },
     "execution_count": 9,
     "metadata": {},
     "output_type": "execute_result"
    },
    {
     "data": {
      "image/png": "[encoded data removed]",
      "text/plain": [
       "<Figure size 720x432 with 1 Axes>"
      ]
     },
     "metadata": {
      "image/png": {
       "height": 381,
       "width": 653
      }
     },
     "output_type": "display_data"
    }
   ],
   "source": [
    "plt.plot(history.history['loss'])"
   ]
  },
  {
   "cell_type": "markdown",
   "metadata": {},
   "source": [
    "# Test on normal data"
   ]
  },
  {
   "cell_type": "code",
   "execution_count": 10,
   "metadata": {},
   "outputs": [
    {
     "name": "stdout",
     "output_type": "stream",
     "text": [
      "60/60 [==============================] - 0s 1ms/sample - loss: 0.0019 - dense_11_loss: 5.8991e-04 - dense_12_loss: 2.9738e-04 - dense_13_loss: 0.0011\n",
      "Score for test (good): [0.0019032247985402743, 0.00058991497, 0.00029737738, 0.0010699725]\n"
     ]
    }
   ],
   "source": [
    "pred = autoencoder.predict(X_test, verbose=0)\n",
    "score = autoencoder.evaluate(X_test, X_test)\n",
    "print('Score for test (good):', score)\n",
    "pred_from, pred_to, pred_t = pred"
   ]
  },
  {
   "cell_type": "code",
   "execution_count": 11,
   "metadata": {},
   "outputs": [],
   "source": [
    "frm_bad, to_bad, times_bad, _ = get_data(df_bad)\n",
    "times_bad = scaler.transform(times_bad)"
   ]
  },
  {
   "cell_type": "markdown",
   "metadata": {},
   "source": [
    "# Test on bad/anomalous data"
   ]
  },
  {
   "cell_type": "code",
   "execution_count": 12,
   "metadata": {},
   "outputs": [
    {
     "name": "stdout",
     "output_type": "stream",
     "text": [
      "60/60 [==============================] - 0s 46us/sample - loss: 0.0019 - dense_11_loss: 5.8991e-04 - dense_12_loss: 2.9738e-04 - dense_13_loss: 0.0011\n",
      "Score for test (good): [0.0019032247985402743, 0.00058991497, 0.00029737738, 0.0010699725]\n",
      "1/1 [==============================] - 0s 41ms/sample - loss: 15321.8818 - dense_11_loss: 16.1181 - dense_12_loss: 16.1181 - dense_13_loss: 15289.6455\n",
      "Score for test (bad): [15321.8818359375, 16.118095, 16.118095, 15289.6455]\n"
     ]
    }
   ],
   "source": [
    "X_test_bad = [frm_bad[:1], to_bad[:1], times_bad[:1]]\n",
    "pred = autoencoder.predict(X_test, verbose=0)\n",
    "score = autoencoder.evaluate(X_test, X_test)\n",
    "print('Score for test (good):', score)\n",
    "pred_from, pred_to, pred_t = pred\n",
    "\n",
    "pred = autoencoder.predict(X_test_bad, verbose=0)\n",
    "score = autoencoder.evaluate(X_test_bad, X_test_bad)\n",
    "print('Score for test (bad):', score)\n",
    "pred_from, pred_to, pred_t = pred"
   ]
  },
  {
   "cell_type": "code",
   "execution_count": 13,
   "metadata": {},
   "outputs": [],
   "source": [
    "autoencoder.save('model.h5')"
   ]
  },
  {
   "cell_type": "code",
   "execution_count": 14,
   "metadata": {},
   "outputs": [
    {
     "data": {
      "text/html": [
       "<img src=\"thumbsup.gif\">"
      ],
      "text/plain": [
       "<IPython.core.display.HTML object>"
      ]
     },
     "execution_count": 14,
     "metadata": {},
     "output_type": "execute_result"
    }
   ],
   "source": [
    "from IPython.display import HTML\n",
    "HTML('<img src=\"thumbsup.gif\">')"
   ]
  }
 ],
 "metadata": {
  "kernelspec": {
   "display_name": "Python 3",
   "language": "python",
   "name": "python3"
  },
  "language_info": {
   "codemirror_mode": {
    "name": "ipython",
    "version": 3
   },
   "file_extension": ".py",
   "mimetype": "text/x-python",
   "name": "python",
   "nbconvert_exporter": "python",
   "pygments_lexer": "ipython3",
   "version": "3.7.4"
  }
 },
 "nbformat": 4,
 "nbformat_minor": 4
}
